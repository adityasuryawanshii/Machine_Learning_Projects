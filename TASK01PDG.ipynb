{
  "nbformat": 4,
  "nbformat_minor": 0,
  "metadata": {
    "colab": {
      "provenance": []
    },
    "kernelspec": {
      "name": "python3",
      "display_name": "Python 3"
    },
    "language_info": {
      "name": "python"
    }
  },
  "cells": [
    {
      "cell_type": "markdown",
      "source": [
        "# **Project Name:** House Price Prediction using Linear Regression\n",
        "#**TASK 01**\n",
        "<br>**Description:**\n",
        "Implement a linear regression model to predict the prices of houses based on their square footage and the number of bedrooms and bathrooms."
      ],
      "metadata": {
        "id": "LcTdHmQdW4eN"
      }
    },
    {
      "cell_type": "code",
      "source": [
        "from google.colab import drive\n",
        "drive.mount('/content/drive')"
      ],
      "metadata": {
        "colab": {
          "base_uri": "https://localhost:8080/",
          "height": 0
        },
        "id": "otc3hePmm1J4",
        "outputId": "5f72003b-a65a-43b0-9f9a-e51d6f49e428"
      },
      "execution_count": 27,
      "outputs": [
        {
          "output_type": "stream",
          "name": "stdout",
          "text": [
            "Drive already mounted at /content/drive; to attempt to forcibly remount, call drive.mount(\"/content/drive\", force_remount=True).\n"
          ]
        }
      ]
    },
    {
      "cell_type": "code",
      "execution_count": 28,
      "metadata": {
        "id": "dzSt5vEiW1In",
        "colab": {
          "base_uri": "https://localhost:8080/",
          "height": 0
        },
        "outputId": "3f03ddcd-4d48-4d53-d833-dc3dfac0a194"
      },
      "outputs": [
        {
          "output_type": "stream",
          "name": "stdout",
          "text": [
            "/content/drive/MyDrive/PP/TASK01PDG\n"
          ]
        }
      ],
      "source": [
        "cd /content/drive/MyDrive/PP/TASK01PDG"
      ]
    },
    {
      "cell_type": "code",
      "source": [
        "import pandas as pd"
      ],
      "metadata": {
        "id": "6sQQZ714w0D7"
      },
      "execution_count": 29,
      "outputs": []
    },
    {
      "cell_type": "code",
      "source": [
        "df=pd.read_csv(\"/content/drive/MyDrive/PP/TASK01PDG/House Prices.csv\")"
      ],
      "metadata": {
        "id": "s3R4yRB4xAuJ"
      },
      "execution_count": 30,
      "outputs": []
    },
    {
      "cell_type": "markdown",
      "source": [
        "# **Studying Data**"
      ],
      "metadata": {
        "id": "QruDX2T8QT-D"
      }
    },
    {
      "cell_type": "code",
      "source": [
        "df.head()"
      ],
      "metadata": {
        "colab": {
          "base_uri": "https://localhost:8080/",
          "height": 255
        },
        "id": "OVypd_4hxPCx",
        "outputId": "8452a704-cddd-43ba-f07c-2f5a1c60e6b9"
      },
      "execution_count": 31,
      "outputs": [
        {
          "output_type": "execute_result",
          "data": {
            "text/plain": [
              "   ID             Date     Price  Bedrooms  Bathrooms  Sqft_living  Sqft_lot  \\\n",
              "0   1  20140916T000000  280000.0         6       3.00       2400.0    9373.0   \n",
              "1   2  20150422T000000  300000.0         6       3.00       2400.0    9373.0   \n",
              "2   3  20140508T000000  647500.0         4       1.75       2060.0   26036.0   \n",
              "3   4  20140811T000000  400000.0         3       1.00       1460.0   43000.0   \n",
              "4   5  20150401T000000  235000.0         3       1.00       1430.0    7599.0   \n",
              "\n",
              "   Floors  Waterfront  View  ...  Grade  Sqft_above  Sqft_basement  Yr_built  \\\n",
              "0     2.0         0.0   0.0  ...    7.0      2400.0            0.0    1991.0   \n",
              "1     2.0         0.0   0.0  ...    7.0      2400.0            0.0    1991.0   \n",
              "2     1.0         0.0   0.0  ...    8.0      1160.0          900.0    1947.0   \n",
              "3     1.0         0.0   0.0  ...    7.0      1460.0            0.0    1952.0   \n",
              "4     1.5         0.0   0.0  ...    6.0      1010.0          420.0    1930.0   \n",
              "\n",
              "   Yr_renovated  zipcode      Lat     Long  Sqft_living15  Sqft_lot15  \n",
              "0           0.0  98002.0  47.3262 -122.214         2060.0      7316.0  \n",
              "1           0.0  98002.0  47.3262 -122.214         2060.0      7316.0  \n",
              "2           0.0  98166.0  47.4444 -122.351         2590.0     21891.0  \n",
              "3           0.0  98166.0  47.4434 -122.347         2250.0     20023.0  \n",
              "4           0.0  98168.0  47.4783 -122.265         1290.0     10320.0  \n",
              "\n",
              "[5 rows x 21 columns]"
            ],
            "text/html": [
              "\n",
              "  <div id=\"df-8d35bc61-e1a3-4c08-8b33-af1a7631b912\" class=\"colab-df-container\">\n",
              "    <div>\n",
              "<style scoped>\n",
              "    .dataframe tbody tr th:only-of-type {\n",
              "        vertical-align: middle;\n",
              "    }\n",
              "\n",
              "    .dataframe tbody tr th {\n",
              "        vertical-align: top;\n",
              "    }\n",
              "\n",
              "    .dataframe thead th {\n",
              "        text-align: right;\n",
              "    }\n",
              "</style>\n",
              "<table border=\"1\" class=\"dataframe\">\n",
              "  <thead>\n",
              "    <tr style=\"text-align: right;\">\n",
              "      <th></th>\n",
              "      <th>ID</th>\n",
              "      <th>Date</th>\n",
              "      <th>Price</th>\n",
              "      <th>Bedrooms</th>\n",
              "      <th>Bathrooms</th>\n",
              "      <th>Sqft_living</th>\n",
              "      <th>Sqft_lot</th>\n",
              "      <th>Floors</th>\n",
              "      <th>Waterfront</th>\n",
              "      <th>View</th>\n",
              "      <th>...</th>\n",
              "      <th>Grade</th>\n",
              "      <th>Sqft_above</th>\n",
              "      <th>Sqft_basement</th>\n",
              "      <th>Yr_built</th>\n",
              "      <th>Yr_renovated</th>\n",
              "      <th>zipcode</th>\n",
              "      <th>Lat</th>\n",
              "      <th>Long</th>\n",
              "      <th>Sqft_living15</th>\n",
              "      <th>Sqft_lot15</th>\n",
              "    </tr>\n",
              "  </thead>\n",
              "  <tbody>\n",
              "    <tr>\n",
              "      <th>0</th>\n",
              "      <td>1</td>\n",
              "      <td>20140916T000000</td>\n",
              "      <td>280000.0</td>\n",
              "      <td>6</td>\n",
              "      <td>3.00</td>\n",
              "      <td>2400.0</td>\n",
              "      <td>9373.0</td>\n",
              "      <td>2.0</td>\n",
              "      <td>0.0</td>\n",
              "      <td>0.0</td>\n",
              "      <td>...</td>\n",
              "      <td>7.0</td>\n",
              "      <td>2400.0</td>\n",
              "      <td>0.0</td>\n",
              "      <td>1991.0</td>\n",
              "      <td>0.0</td>\n",
              "      <td>98002.0</td>\n",
              "      <td>47.3262</td>\n",
              "      <td>-122.214</td>\n",
              "      <td>2060.0</td>\n",
              "      <td>7316.0</td>\n",
              "    </tr>\n",
              "    <tr>\n",
              "      <th>1</th>\n",
              "      <td>2</td>\n",
              "      <td>20150422T000000</td>\n",
              "      <td>300000.0</td>\n",
              "      <td>6</td>\n",
              "      <td>3.00</td>\n",
              "      <td>2400.0</td>\n",
              "      <td>9373.0</td>\n",
              "      <td>2.0</td>\n",
              "      <td>0.0</td>\n",
              "      <td>0.0</td>\n",
              "      <td>...</td>\n",
              "      <td>7.0</td>\n",
              "      <td>2400.0</td>\n",
              "      <td>0.0</td>\n",
              "      <td>1991.0</td>\n",
              "      <td>0.0</td>\n",
              "      <td>98002.0</td>\n",
              "      <td>47.3262</td>\n",
              "      <td>-122.214</td>\n",
              "      <td>2060.0</td>\n",
              "      <td>7316.0</td>\n",
              "    </tr>\n",
              "    <tr>\n",
              "      <th>2</th>\n",
              "      <td>3</td>\n",
              "      <td>20140508T000000</td>\n",
              "      <td>647500.0</td>\n",
              "      <td>4</td>\n",
              "      <td>1.75</td>\n",
              "      <td>2060.0</td>\n",
              "      <td>26036.0</td>\n",
              "      <td>1.0</td>\n",
              "      <td>0.0</td>\n",
              "      <td>0.0</td>\n",
              "      <td>...</td>\n",
              "      <td>8.0</td>\n",
              "      <td>1160.0</td>\n",
              "      <td>900.0</td>\n",
              "      <td>1947.0</td>\n",
              "      <td>0.0</td>\n",
              "      <td>98166.0</td>\n",
              "      <td>47.4444</td>\n",
              "      <td>-122.351</td>\n",
              "      <td>2590.0</td>\n",
              "      <td>21891.0</td>\n",
              "    </tr>\n",
              "    <tr>\n",
              "      <th>3</th>\n",
              "      <td>4</td>\n",
              "      <td>20140811T000000</td>\n",
              "      <td>400000.0</td>\n",
              "      <td>3</td>\n",
              "      <td>1.00</td>\n",
              "      <td>1460.0</td>\n",
              "      <td>43000.0</td>\n",
              "      <td>1.0</td>\n",
              "      <td>0.0</td>\n",
              "      <td>0.0</td>\n",
              "      <td>...</td>\n",
              "      <td>7.0</td>\n",
              "      <td>1460.0</td>\n",
              "      <td>0.0</td>\n",
              "      <td>1952.0</td>\n",
              "      <td>0.0</td>\n",
              "      <td>98166.0</td>\n",
              "      <td>47.4434</td>\n",
              "      <td>-122.347</td>\n",
              "      <td>2250.0</td>\n",
              "      <td>20023.0</td>\n",
              "    </tr>\n",
              "    <tr>\n",
              "      <th>4</th>\n",
              "      <td>5</td>\n",
              "      <td>20150401T000000</td>\n",
              "      <td>235000.0</td>\n",
              "      <td>3</td>\n",
              "      <td>1.00</td>\n",
              "      <td>1430.0</td>\n",
              "      <td>7599.0</td>\n",
              "      <td>1.5</td>\n",
              "      <td>0.0</td>\n",
              "      <td>0.0</td>\n",
              "      <td>...</td>\n",
              "      <td>6.0</td>\n",
              "      <td>1010.0</td>\n",
              "      <td>420.0</td>\n",
              "      <td>1930.0</td>\n",
              "      <td>0.0</td>\n",
              "      <td>98168.0</td>\n",
              "      <td>47.4783</td>\n",
              "      <td>-122.265</td>\n",
              "      <td>1290.0</td>\n",
              "      <td>10320.0</td>\n",
              "    </tr>\n",
              "  </tbody>\n",
              "</table>\n",
              "<p>5 rows × 21 columns</p>\n",
              "</div>\n",
              "    <div class=\"colab-df-buttons\">\n",
              "\n",
              "  <div class=\"colab-df-container\">\n",
              "    <button class=\"colab-df-convert\" onclick=\"convertToInteractive('df-8d35bc61-e1a3-4c08-8b33-af1a7631b912')\"\n",
              "            title=\"Convert this dataframe to an interactive table.\"\n",
              "            style=\"display:none;\">\n",
              "\n",
              "  <svg xmlns=\"http://www.w3.org/2000/svg\" height=\"24px\" viewBox=\"0 -960 960 960\">\n",
              "    <path d=\"M120-120v-720h720v720H120Zm60-500h600v-160H180v160Zm220 220h160v-160H400v160Zm0 220h160v-160H400v160ZM180-400h160v-160H180v160Zm440 0h160v-160H620v160ZM180-180h160v-160H180v160Zm440 0h160v-160H620v160Z\"/>\n",
              "  </svg>\n",
              "    </button>\n",
              "\n",
              "  <style>\n",
              "    .colab-df-container {\n",
              "      display:flex;\n",
              "      gap: 12px;\n",
              "    }\n",
              "\n",
              "    .colab-df-convert {\n",
              "      background-color: #E8F0FE;\n",
              "      border: none;\n",
              "      border-radius: 50%;\n",
              "      cursor: pointer;\n",
              "      display: none;\n",
              "      fill: #1967D2;\n",
              "      height: 32px;\n",
              "      padding: 0 0 0 0;\n",
              "      width: 32px;\n",
              "    }\n",
              "\n",
              "    .colab-df-convert:hover {\n",
              "      background-color: #E2EBFA;\n",
              "      box-shadow: 0px 1px 2px rgba(60, 64, 67, 0.3), 0px 1px 3px 1px rgba(60, 64, 67, 0.15);\n",
              "      fill: #174EA6;\n",
              "    }\n",
              "\n",
              "    .colab-df-buttons div {\n",
              "      margin-bottom: 4px;\n",
              "    }\n",
              "\n",
              "    [theme=dark] .colab-df-convert {\n",
              "      background-color: #3B4455;\n",
              "      fill: #D2E3FC;\n",
              "    }\n",
              "\n",
              "    [theme=dark] .colab-df-convert:hover {\n",
              "      background-color: #434B5C;\n",
              "      box-shadow: 0px 1px 3px 1px rgba(0, 0, 0, 0.15);\n",
              "      filter: drop-shadow(0px 1px 2px rgba(0, 0, 0, 0.3));\n",
              "      fill: #FFFFFF;\n",
              "    }\n",
              "  </style>\n",
              "\n",
              "    <script>\n",
              "      const buttonEl =\n",
              "        document.querySelector('#df-8d35bc61-e1a3-4c08-8b33-af1a7631b912 button.colab-df-convert');\n",
              "      buttonEl.style.display =\n",
              "        google.colab.kernel.accessAllowed ? 'block' : 'none';\n",
              "\n",
              "      async function convertToInteractive(key) {\n",
              "        const element = document.querySelector('#df-8d35bc61-e1a3-4c08-8b33-af1a7631b912');\n",
              "        const dataTable =\n",
              "          await google.colab.kernel.invokeFunction('convertToInteractive',\n",
              "                                                    [key], {});\n",
              "        if (!dataTable) return;\n",
              "\n",
              "        const docLinkHtml = 'Like what you see? Visit the ' +\n",
              "          '<a target=\"_blank\" href=https://colab.research.google.com/notebooks/data_table.ipynb>data table notebook</a>'\n",
              "          + ' to learn more about interactive tables.';\n",
              "        element.innerHTML = '';\n",
              "        dataTable['output_type'] = 'display_data';\n",
              "        await google.colab.output.renderOutput(dataTable, element);\n",
              "        const docLink = document.createElement('div');\n",
              "        docLink.innerHTML = docLinkHtml;\n",
              "        element.appendChild(docLink);\n",
              "      }\n",
              "    </script>\n",
              "  </div>\n",
              "\n",
              "\n",
              "<div id=\"df-50e0e5e7-d72e-4c5e-a0c6-625cea5205b1\">\n",
              "  <button class=\"colab-df-quickchart\" onclick=\"quickchart('df-50e0e5e7-d72e-4c5e-a0c6-625cea5205b1')\"\n",
              "            title=\"Suggest charts\"\n",
              "            style=\"display:none;\">\n",
              "\n",
              "<svg xmlns=\"http://www.w3.org/2000/svg\" height=\"24px\"viewBox=\"0 0 24 24\"\n",
              "     width=\"24px\">\n",
              "    <g>\n",
              "        <path d=\"M19 3H5c-1.1 0-2 .9-2 2v14c0 1.1.9 2 2 2h14c1.1 0 2-.9 2-2V5c0-1.1-.9-2-2-2zM9 17H7v-7h2v7zm4 0h-2V7h2v10zm4 0h-2v-4h2v4z\"/>\n",
              "    </g>\n",
              "</svg>\n",
              "  </button>\n",
              "\n",
              "<style>\n",
              "  .colab-df-quickchart {\n",
              "      --bg-color: #E8F0FE;\n",
              "      --fill-color: #1967D2;\n",
              "      --hover-bg-color: #E2EBFA;\n",
              "      --hover-fill-color: #174EA6;\n",
              "      --disabled-fill-color: #AAA;\n",
              "      --disabled-bg-color: #DDD;\n",
              "  }\n",
              "\n",
              "  [theme=dark] .colab-df-quickchart {\n",
              "      --bg-color: #3B4455;\n",
              "      --fill-color: #D2E3FC;\n",
              "      --hover-bg-color: #434B5C;\n",
              "      --hover-fill-color: #FFFFFF;\n",
              "      --disabled-bg-color: #3B4455;\n",
              "      --disabled-fill-color: #666;\n",
              "  }\n",
              "\n",
              "  .colab-df-quickchart {\n",
              "    background-color: var(--bg-color);\n",
              "    border: none;\n",
              "    border-radius: 50%;\n",
              "    cursor: pointer;\n",
              "    display: none;\n",
              "    fill: var(--fill-color);\n",
              "    height: 32px;\n",
              "    padding: 0;\n",
              "    width: 32px;\n",
              "  }\n",
              "\n",
              "  .colab-df-quickchart:hover {\n",
              "    background-color: var(--hover-bg-color);\n",
              "    box-shadow: 0 1px 2px rgba(60, 64, 67, 0.3), 0 1px 3px 1px rgba(60, 64, 67, 0.15);\n",
              "    fill: var(--button-hover-fill-color);\n",
              "  }\n",
              "\n",
              "  .colab-df-quickchart-complete:disabled,\n",
              "  .colab-df-quickchart-complete:disabled:hover {\n",
              "    background-color: var(--disabled-bg-color);\n",
              "    fill: var(--disabled-fill-color);\n",
              "    box-shadow: none;\n",
              "  }\n",
              "\n",
              "  .colab-df-spinner {\n",
              "    border: 2px solid var(--fill-color);\n",
              "    border-color: transparent;\n",
              "    border-bottom-color: var(--fill-color);\n",
              "    animation:\n",
              "      spin 1s steps(1) infinite;\n",
              "  }\n",
              "\n",
              "  @keyframes spin {\n",
              "    0% {\n",
              "      border-color: transparent;\n",
              "      border-bottom-color: var(--fill-color);\n",
              "      border-left-color: var(--fill-color);\n",
              "    }\n",
              "    20% {\n",
              "      border-color: transparent;\n",
              "      border-left-color: var(--fill-color);\n",
              "      border-top-color: var(--fill-color);\n",
              "    }\n",
              "    30% {\n",
              "      border-color: transparent;\n",
              "      border-left-color: var(--fill-color);\n",
              "      border-top-color: var(--fill-color);\n",
              "      border-right-color: var(--fill-color);\n",
              "    }\n",
              "    40% {\n",
              "      border-color: transparent;\n",
              "      border-right-color: var(--fill-color);\n",
              "      border-top-color: var(--fill-color);\n",
              "    }\n",
              "    60% {\n",
              "      border-color: transparent;\n",
              "      border-right-color: var(--fill-color);\n",
              "    }\n",
              "    80% {\n",
              "      border-color: transparent;\n",
              "      border-right-color: var(--fill-color);\n",
              "      border-bottom-color: var(--fill-color);\n",
              "    }\n",
              "    90% {\n",
              "      border-color: transparent;\n",
              "      border-bottom-color: var(--fill-color);\n",
              "    }\n",
              "  }\n",
              "</style>\n",
              "\n",
              "  <script>\n",
              "    async function quickchart(key) {\n",
              "      const quickchartButtonEl =\n",
              "        document.querySelector('#' + key + ' button');\n",
              "      quickchartButtonEl.disabled = true;  // To prevent multiple clicks.\n",
              "      quickchartButtonEl.classList.add('colab-df-spinner');\n",
              "      try {\n",
              "        const charts = await google.colab.kernel.invokeFunction(\n",
              "            'suggestCharts', [key], {});\n",
              "      } catch (error) {\n",
              "        console.error('Error during call to suggestCharts:', error);\n",
              "      }\n",
              "      quickchartButtonEl.classList.remove('colab-df-spinner');\n",
              "      quickchartButtonEl.classList.add('colab-df-quickchart-complete');\n",
              "    }\n",
              "    (() => {\n",
              "      let quickchartButtonEl =\n",
              "        document.querySelector('#df-50e0e5e7-d72e-4c5e-a0c6-625cea5205b1 button');\n",
              "      quickchartButtonEl.style.display =\n",
              "        google.colab.kernel.accessAllowed ? 'block' : 'none';\n",
              "    })();\n",
              "  </script>\n",
              "</div>\n",
              "\n",
              "    </div>\n",
              "  </div>\n"
            ],
            "application/vnd.google.colaboratory.intrinsic+json": {
              "type": "dataframe",
              "variable_name": "df"
            }
          },
          "metadata": {},
          "execution_count": 31
        }
      ]
    },
    {
      "cell_type": "code",
      "source": [
        "df.describe()"
      ],
      "metadata": {
        "colab": {
          "base_uri": "https://localhost:8080/",
          "height": 320
        },
        "id": "J6UAtOw_xQ09",
        "outputId": "e0b777f0-146e-4cc8-9e47-5c383ba91970"
      },
      "execution_count": 32,
      "outputs": [
        {
          "output_type": "execute_result",
          "data": {
            "text/plain": [
              "                 ID         Price      Bedrooms     Bathrooms   Sqft_living  \\\n",
              "count  10147.000000  1.014700e+04  10147.000000  10147.000000  10146.000000   \n",
              "mean    5074.000000  5.447467e+05      3.352321      2.114418   2085.293219   \n",
              "std     2929.330925  3.719381e+05      0.960354      0.791662    950.798617   \n",
              "min        1.000000  7.500000e+04      0.000000      0.000000    370.000000   \n",
              "25%     2537.500000  3.200000e+05      3.000000      1.500000   1400.000000   \n",
              "50%     5074.000000  4.499000e+05      3.000000      2.250000   1900.000000   \n",
              "75%     7610.500000  6.500000e+05      4.000000      2.500000   2560.000000   \n",
              "max    10147.000000  5.570000e+06     33.000000      8.000000  13540.000000   \n",
              "\n",
              "           Sqft_lot        Floors    Waterfront          View     Condition  \\\n",
              "count  1.014600e+04  10146.000000  10146.000000  10146.000000  10146.000000   \n",
              "mean   2.130911e+04      1.492756      0.007885      0.222354      3.420363   \n",
              "std    5.846164e+04      0.545714      0.088450      0.750776      0.658130   \n",
              "min    5.720000e+02      1.000000      0.000000      0.000000      1.000000   \n",
              "25%    5.121250e+03      1.000000      0.000000      0.000000      3.000000   \n",
              "50%    7.874000e+03      1.500000      0.000000      0.000000      3.000000   \n",
              "75%    1.203750e+04      2.000000      0.000000      0.000000      4.000000   \n",
              "max    1.651359e+06      3.500000      1.000000      4.000000      5.000000   \n",
              "\n",
              "              Grade    Sqft_above  Sqft_basement      Yr_built  Yr_renovated  \\\n",
              "count  10146.000000  10146.000000   10146.000000  10146.000000  10146.000000   \n",
              "mean       7.654248   1795.429233     289.863986   1970.862705     90.296964   \n",
              "std        1.210644    856.694145     442.378152     29.301905    414.854887   \n",
              "min        3.000000    370.000000       0.000000   1900.000000      0.000000   \n",
              "25%        7.000000   1180.000000       0.000000   1952.000000      0.000000   \n",
              "50%        7.000000   1540.000000       0.000000   1974.000000      0.000000   \n",
              "75%        8.000000   2220.000000     550.000000   1996.000000      0.000000   \n",
              "max       13.000000   9410.000000    4820.000000   2015.000000   2015.000000   \n",
              "\n",
              "            zipcode           Lat          Long  Sqft_living15     Sqft_lot15  \n",
              "count  10146.000000  10146.000000  10146.000000   10146.000000   10146.000000  \n",
              "mean   98078.564755     47.558043   -122.216180    1985.202050   16974.849103  \n",
              "std       53.769721      0.137709      0.140575     686.600536   37852.969935  \n",
              "min    98001.000000     47.159300   -122.519000     399.000000     659.000000  \n",
              "25%    98033.000000     47.465725   -122.336000    1480.000000    5208.000000  \n",
              "50%    98070.000000     47.566400   -122.225000    1830.000000    7803.000000  \n",
              "75%    98117.000000     47.674400   -122.126000    2360.000000   10785.250000  \n",
              "max    98199.000000     47.777600   -121.315000    6210.000000  871200.000000  "
            ],
            "text/html": [
              "\n",
              "  <div id=\"df-cbf6c091-cebf-4af7-bd2c-dde53559d37b\" class=\"colab-df-container\">\n",
              "    <div>\n",
              "<style scoped>\n",
              "    .dataframe tbody tr th:only-of-type {\n",
              "        vertical-align: middle;\n",
              "    }\n",
              "\n",
              "    .dataframe tbody tr th {\n",
              "        vertical-align: top;\n",
              "    }\n",
              "\n",
              "    .dataframe thead th {\n",
              "        text-align: right;\n",
              "    }\n",
              "</style>\n",
              "<table border=\"1\" class=\"dataframe\">\n",
              "  <thead>\n",
              "    <tr style=\"text-align: right;\">\n",
              "      <th></th>\n",
              "      <th>ID</th>\n",
              "      <th>Price</th>\n",
              "      <th>Bedrooms</th>\n",
              "      <th>Bathrooms</th>\n",
              "      <th>Sqft_living</th>\n",
              "      <th>Sqft_lot</th>\n",
              "      <th>Floors</th>\n",
              "      <th>Waterfront</th>\n",
              "      <th>View</th>\n",
              "      <th>Condition</th>\n",
              "      <th>Grade</th>\n",
              "      <th>Sqft_above</th>\n",
              "      <th>Sqft_basement</th>\n",
              "      <th>Yr_built</th>\n",
              "      <th>Yr_renovated</th>\n",
              "      <th>zipcode</th>\n",
              "      <th>Lat</th>\n",
              "      <th>Long</th>\n",
              "      <th>Sqft_living15</th>\n",
              "      <th>Sqft_lot15</th>\n",
              "    </tr>\n",
              "  </thead>\n",
              "  <tbody>\n",
              "    <tr>\n",
              "      <th>count</th>\n",
              "      <td>10147.000000</td>\n",
              "      <td>1.014700e+04</td>\n",
              "      <td>10147.000000</td>\n",
              "      <td>10147.000000</td>\n",
              "      <td>10146.000000</td>\n",
              "      <td>1.014600e+04</td>\n",
              "      <td>10146.000000</td>\n",
              "      <td>10146.000000</td>\n",
              "      <td>10146.000000</td>\n",
              "      <td>10146.000000</td>\n",
              "      <td>10146.000000</td>\n",
              "      <td>10146.000000</td>\n",
              "      <td>10146.000000</td>\n",
              "      <td>10146.000000</td>\n",
              "      <td>10146.000000</td>\n",
              "      <td>10146.000000</td>\n",
              "      <td>10146.000000</td>\n",
              "      <td>10146.000000</td>\n",
              "      <td>10146.000000</td>\n",
              "      <td>10146.000000</td>\n",
              "    </tr>\n",
              "    <tr>\n",
              "      <th>mean</th>\n",
              "      <td>5074.000000</td>\n",
              "      <td>5.447467e+05</td>\n",
              "      <td>3.352321</td>\n",
              "      <td>2.114418</td>\n",
              "      <td>2085.293219</td>\n",
              "      <td>2.130911e+04</td>\n",
              "      <td>1.492756</td>\n",
              "      <td>0.007885</td>\n",
              "      <td>0.222354</td>\n",
              "      <td>3.420363</td>\n",
              "      <td>7.654248</td>\n",
              "      <td>1795.429233</td>\n",
              "      <td>289.863986</td>\n",
              "      <td>1970.862705</td>\n",
              "      <td>90.296964</td>\n",
              "      <td>98078.564755</td>\n",
              "      <td>47.558043</td>\n",
              "      <td>-122.216180</td>\n",
              "      <td>1985.202050</td>\n",
              "      <td>16974.849103</td>\n",
              "    </tr>\n",
              "    <tr>\n",
              "      <th>std</th>\n",
              "      <td>2929.330925</td>\n",
              "      <td>3.719381e+05</td>\n",
              "      <td>0.960354</td>\n",
              "      <td>0.791662</td>\n",
              "      <td>950.798617</td>\n",
              "      <td>5.846164e+04</td>\n",
              "      <td>0.545714</td>\n",
              "      <td>0.088450</td>\n",
              "      <td>0.750776</td>\n",
              "      <td>0.658130</td>\n",
              "      <td>1.210644</td>\n",
              "      <td>856.694145</td>\n",
              "      <td>442.378152</td>\n",
              "      <td>29.301905</td>\n",
              "      <td>414.854887</td>\n",
              "      <td>53.769721</td>\n",
              "      <td>0.137709</td>\n",
              "      <td>0.140575</td>\n",
              "      <td>686.600536</td>\n",
              "      <td>37852.969935</td>\n",
              "    </tr>\n",
              "    <tr>\n",
              "      <th>min</th>\n",
              "      <td>1.000000</td>\n",
              "      <td>7.500000e+04</td>\n",
              "      <td>0.000000</td>\n",
              "      <td>0.000000</td>\n",
              "      <td>370.000000</td>\n",
              "      <td>5.720000e+02</td>\n",
              "      <td>1.000000</td>\n",
              "      <td>0.000000</td>\n",
              "      <td>0.000000</td>\n",
              "      <td>1.000000</td>\n",
              "      <td>3.000000</td>\n",
              "      <td>370.000000</td>\n",
              "      <td>0.000000</td>\n",
              "      <td>1900.000000</td>\n",
              "      <td>0.000000</td>\n",
              "      <td>98001.000000</td>\n",
              "      <td>47.159300</td>\n",
              "      <td>-122.519000</td>\n",
              "      <td>399.000000</td>\n",
              "      <td>659.000000</td>\n",
              "    </tr>\n",
              "    <tr>\n",
              "      <th>25%</th>\n",
              "      <td>2537.500000</td>\n",
              "      <td>3.200000e+05</td>\n",
              "      <td>3.000000</td>\n",
              "      <td>1.500000</td>\n",
              "      <td>1400.000000</td>\n",
              "      <td>5.121250e+03</td>\n",
              "      <td>1.000000</td>\n",
              "      <td>0.000000</td>\n",
              "      <td>0.000000</td>\n",
              "      <td>3.000000</td>\n",
              "      <td>7.000000</td>\n",
              "      <td>1180.000000</td>\n",
              "      <td>0.000000</td>\n",
              "      <td>1952.000000</td>\n",
              "      <td>0.000000</td>\n",
              "      <td>98033.000000</td>\n",
              "      <td>47.465725</td>\n",
              "      <td>-122.336000</td>\n",
              "      <td>1480.000000</td>\n",
              "      <td>5208.000000</td>\n",
              "    </tr>\n",
              "    <tr>\n",
              "      <th>50%</th>\n",
              "      <td>5074.000000</td>\n",
              "      <td>4.499000e+05</td>\n",
              "      <td>3.000000</td>\n",
              "      <td>2.250000</td>\n",
              "      <td>1900.000000</td>\n",
              "      <td>7.874000e+03</td>\n",
              "      <td>1.500000</td>\n",
              "      <td>0.000000</td>\n",
              "      <td>0.000000</td>\n",
              "      <td>3.000000</td>\n",
              "      <td>7.000000</td>\n",
              "      <td>1540.000000</td>\n",
              "      <td>0.000000</td>\n",
              "      <td>1974.000000</td>\n",
              "      <td>0.000000</td>\n",
              "      <td>98070.000000</td>\n",
              "      <td>47.566400</td>\n",
              "      <td>-122.225000</td>\n",
              "      <td>1830.000000</td>\n",
              "      <td>7803.000000</td>\n",
              "    </tr>\n",
              "    <tr>\n",
              "      <th>75%</th>\n",
              "      <td>7610.500000</td>\n",
              "      <td>6.500000e+05</td>\n",
              "      <td>4.000000</td>\n",
              "      <td>2.500000</td>\n",
              "      <td>2560.000000</td>\n",
              "      <td>1.203750e+04</td>\n",
              "      <td>2.000000</td>\n",
              "      <td>0.000000</td>\n",
              "      <td>0.000000</td>\n",
              "      <td>4.000000</td>\n",
              "      <td>8.000000</td>\n",
              "      <td>2220.000000</td>\n",
              "      <td>550.000000</td>\n",
              "      <td>1996.000000</td>\n",
              "      <td>0.000000</td>\n",
              "      <td>98117.000000</td>\n",
              "      <td>47.674400</td>\n",
              "      <td>-122.126000</td>\n",
              "      <td>2360.000000</td>\n",
              "      <td>10785.250000</td>\n",
              "    </tr>\n",
              "    <tr>\n",
              "      <th>max</th>\n",
              "      <td>10147.000000</td>\n",
              "      <td>5.570000e+06</td>\n",
              "      <td>33.000000</td>\n",
              "      <td>8.000000</td>\n",
              "      <td>13540.000000</td>\n",
              "      <td>1.651359e+06</td>\n",
              "      <td>3.500000</td>\n",
              "      <td>1.000000</td>\n",
              "      <td>4.000000</td>\n",
              "      <td>5.000000</td>\n",
              "      <td>13.000000</td>\n",
              "      <td>9410.000000</td>\n",
              "      <td>4820.000000</td>\n",
              "      <td>2015.000000</td>\n",
              "      <td>2015.000000</td>\n",
              "      <td>98199.000000</td>\n",
              "      <td>47.777600</td>\n",
              "      <td>-121.315000</td>\n",
              "      <td>6210.000000</td>\n",
              "      <td>871200.000000</td>\n",
              "    </tr>\n",
              "  </tbody>\n",
              "</table>\n",
              "</div>\n",
              "    <div class=\"colab-df-buttons\">\n",
              "\n",
              "  <div class=\"colab-df-container\">\n",
              "    <button class=\"colab-df-convert\" onclick=\"convertToInteractive('df-cbf6c091-cebf-4af7-bd2c-dde53559d37b')\"\n",
              "            title=\"Convert this dataframe to an interactive table.\"\n",
              "            style=\"display:none;\">\n",
              "\n",
              "  <svg xmlns=\"http://www.w3.org/2000/svg\" height=\"24px\" viewBox=\"0 -960 960 960\">\n",
              "    <path d=\"M120-120v-720h720v720H120Zm60-500h600v-160H180v160Zm220 220h160v-160H400v160Zm0 220h160v-160H400v160ZM180-400h160v-160H180v160Zm440 0h160v-160H620v160ZM180-180h160v-160H180v160Zm440 0h160v-160H620v160Z\"/>\n",
              "  </svg>\n",
              "    </button>\n",
              "\n",
              "  <style>\n",
              "    .colab-df-container {\n",
              "      display:flex;\n",
              "      gap: 12px;\n",
              "    }\n",
              "\n",
              "    .colab-df-convert {\n",
              "      background-color: #E8F0FE;\n",
              "      border: none;\n",
              "      border-radius: 50%;\n",
              "      cursor: pointer;\n",
              "      display: none;\n",
              "      fill: #1967D2;\n",
              "      height: 32px;\n",
              "      padding: 0 0 0 0;\n",
              "      width: 32px;\n",
              "    }\n",
              "\n",
              "    .colab-df-convert:hover {\n",
              "      background-color: #E2EBFA;\n",
              "      box-shadow: 0px 1px 2px rgba(60, 64, 67, 0.3), 0px 1px 3px 1px rgba(60, 64, 67, 0.15);\n",
              "      fill: #174EA6;\n",
              "    }\n",
              "\n",
              "    .colab-df-buttons div {\n",
              "      margin-bottom: 4px;\n",
              "    }\n",
              "\n",
              "    [theme=dark] .colab-df-convert {\n",
              "      background-color: #3B4455;\n",
              "      fill: #D2E3FC;\n",
              "    }\n",
              "\n",
              "    [theme=dark] .colab-df-convert:hover {\n",
              "      background-color: #434B5C;\n",
              "      box-shadow: 0px 1px 3px 1px rgba(0, 0, 0, 0.15);\n",
              "      filter: drop-shadow(0px 1px 2px rgba(0, 0, 0, 0.3));\n",
              "      fill: #FFFFFF;\n",
              "    }\n",
              "  </style>\n",
              "\n",
              "    <script>\n",
              "      const buttonEl =\n",
              "        document.querySelector('#df-cbf6c091-cebf-4af7-bd2c-dde53559d37b button.colab-df-convert');\n",
              "      buttonEl.style.display =\n",
              "        google.colab.kernel.accessAllowed ? 'block' : 'none';\n",
              "\n",
              "      async function convertToInteractive(key) {\n",
              "        const element = document.querySelector('#df-cbf6c091-cebf-4af7-bd2c-dde53559d37b');\n",
              "        const dataTable =\n",
              "          await google.colab.kernel.invokeFunction('convertToInteractive',\n",
              "                                                    [key], {});\n",
              "        if (!dataTable) return;\n",
              "\n",
              "        const docLinkHtml = 'Like what you see? Visit the ' +\n",
              "          '<a target=\"_blank\" href=https://colab.research.google.com/notebooks/data_table.ipynb>data table notebook</a>'\n",
              "          + ' to learn more about interactive tables.';\n",
              "        element.innerHTML = '';\n",
              "        dataTable['output_type'] = 'display_data';\n",
              "        await google.colab.output.renderOutput(dataTable, element);\n",
              "        const docLink = document.createElement('div');\n",
              "        docLink.innerHTML = docLinkHtml;\n",
              "        element.appendChild(docLink);\n",
              "      }\n",
              "    </script>\n",
              "  </div>\n",
              "\n",
              "\n",
              "<div id=\"df-b7fe535a-45f0-4f9a-a927-b7b04e1b31a3\">\n",
              "  <button class=\"colab-df-quickchart\" onclick=\"quickchart('df-b7fe535a-45f0-4f9a-a927-b7b04e1b31a3')\"\n",
              "            title=\"Suggest charts\"\n",
              "            style=\"display:none;\">\n",
              "\n",
              "<svg xmlns=\"http://www.w3.org/2000/svg\" height=\"24px\"viewBox=\"0 0 24 24\"\n",
              "     width=\"24px\">\n",
              "    <g>\n",
              "        <path d=\"M19 3H5c-1.1 0-2 .9-2 2v14c0 1.1.9 2 2 2h14c1.1 0 2-.9 2-2V5c0-1.1-.9-2-2-2zM9 17H7v-7h2v7zm4 0h-2V7h2v10zm4 0h-2v-4h2v4z\"/>\n",
              "    </g>\n",
              "</svg>\n",
              "  </button>\n",
              "\n",
              "<style>\n",
              "  .colab-df-quickchart {\n",
              "      --bg-color: #E8F0FE;\n",
              "      --fill-color: #1967D2;\n",
              "      --hover-bg-color: #E2EBFA;\n",
              "      --hover-fill-color: #174EA6;\n",
              "      --disabled-fill-color: #AAA;\n",
              "      --disabled-bg-color: #DDD;\n",
              "  }\n",
              "\n",
              "  [theme=dark] .colab-df-quickchart {\n",
              "      --bg-color: #3B4455;\n",
              "      --fill-color: #D2E3FC;\n",
              "      --hover-bg-color: #434B5C;\n",
              "      --hover-fill-color: #FFFFFF;\n",
              "      --disabled-bg-color: #3B4455;\n",
              "      --disabled-fill-color: #666;\n",
              "  }\n",
              "\n",
              "  .colab-df-quickchart {\n",
              "    background-color: var(--bg-color);\n",
              "    border: none;\n",
              "    border-radius: 50%;\n",
              "    cursor: pointer;\n",
              "    display: none;\n",
              "    fill: var(--fill-color);\n",
              "    height: 32px;\n",
              "    padding: 0;\n",
              "    width: 32px;\n",
              "  }\n",
              "\n",
              "  .colab-df-quickchart:hover {\n",
              "    background-color: var(--hover-bg-color);\n",
              "    box-shadow: 0 1px 2px rgba(60, 64, 67, 0.3), 0 1px 3px 1px rgba(60, 64, 67, 0.15);\n",
              "    fill: var(--button-hover-fill-color);\n",
              "  }\n",
              "\n",
              "  .colab-df-quickchart-complete:disabled,\n",
              "  .colab-df-quickchart-complete:disabled:hover {\n",
              "    background-color: var(--disabled-bg-color);\n",
              "    fill: var(--disabled-fill-color);\n",
              "    box-shadow: none;\n",
              "  }\n",
              "\n",
              "  .colab-df-spinner {\n",
              "    border: 2px solid var(--fill-color);\n",
              "    border-color: transparent;\n",
              "    border-bottom-color: var(--fill-color);\n",
              "    animation:\n",
              "      spin 1s steps(1) infinite;\n",
              "  }\n",
              "\n",
              "  @keyframes spin {\n",
              "    0% {\n",
              "      border-color: transparent;\n",
              "      border-bottom-color: var(--fill-color);\n",
              "      border-left-color: var(--fill-color);\n",
              "    }\n",
              "    20% {\n",
              "      border-color: transparent;\n",
              "      border-left-color: var(--fill-color);\n",
              "      border-top-color: var(--fill-color);\n",
              "    }\n",
              "    30% {\n",
              "      border-color: transparent;\n",
              "      border-left-color: var(--fill-color);\n",
              "      border-top-color: var(--fill-color);\n",
              "      border-right-color: var(--fill-color);\n",
              "    }\n",
              "    40% {\n",
              "      border-color: transparent;\n",
              "      border-right-color: var(--fill-color);\n",
              "      border-top-color: var(--fill-color);\n",
              "    }\n",
              "    60% {\n",
              "      border-color: transparent;\n",
              "      border-right-color: var(--fill-color);\n",
              "    }\n",
              "    80% {\n",
              "      border-color: transparent;\n",
              "      border-right-color: var(--fill-color);\n",
              "      border-bottom-color: var(--fill-color);\n",
              "    }\n",
              "    90% {\n",
              "      border-color: transparent;\n",
              "      border-bottom-color: var(--fill-color);\n",
              "    }\n",
              "  }\n",
              "</style>\n",
              "\n",
              "  <script>\n",
              "    async function quickchart(key) {\n",
              "      const quickchartButtonEl =\n",
              "        document.querySelector('#' + key + ' button');\n",
              "      quickchartButtonEl.disabled = true;  // To prevent multiple clicks.\n",
              "      quickchartButtonEl.classList.add('colab-df-spinner');\n",
              "      try {\n",
              "        const charts = await google.colab.kernel.invokeFunction(\n",
              "            'suggestCharts', [key], {});\n",
              "      } catch (error) {\n",
              "        console.error('Error during call to suggestCharts:', error);\n",
              "      }\n",
              "      quickchartButtonEl.classList.remove('colab-df-spinner');\n",
              "      quickchartButtonEl.classList.add('colab-df-quickchart-complete');\n",
              "    }\n",
              "    (() => {\n",
              "      let quickchartButtonEl =\n",
              "        document.querySelector('#df-b7fe535a-45f0-4f9a-a927-b7b04e1b31a3 button');\n",
              "      quickchartButtonEl.style.display =\n",
              "        google.colab.kernel.accessAllowed ? 'block' : 'none';\n",
              "    })();\n",
              "  </script>\n",
              "</div>\n",
              "\n",
              "    </div>\n",
              "  </div>\n"
            ],
            "application/vnd.google.colaboratory.intrinsic+json": {
              "type": "dataframe",
              "summary": "{\n  \"name\": \"df\",\n  \"rows\": 8,\n  \"fields\": [\n    {\n      \"column\": \"ID\",\n      \"properties\": {\n        \"dtype\": \"number\",\n        \"std\": 3656.723097680169,\n        \"min\": 1.0,\n        \"max\": 10147.0,\n        \"num_unique_values\": 6,\n        \"samples\": [\n          10147.0,\n          5074.0,\n          7610.5\n        ],\n        \"semantic_type\": \"\",\n        \"description\": \"\"\n      }\n    },\n    {\n      \"column\": \"Price\",\n      \"properties\": {\n        \"dtype\": \"number\",\n        \"std\": 1859706.3037712632,\n        \"min\": 10147.0,\n        \"max\": 5570000.0,\n        \"num_unique_values\": 8,\n        \"samples\": [\n          544746.6647284912,\n          449900.0,\n          10147.0\n        ],\n        \"semantic_type\": \"\",\n        \"description\": \"\"\n      }\n    },\n    {\n      \"column\": \"Bedrooms\",\n      \"properties\": {\n        \"dtype\": \"number\",\n        \"std\": 3585.1328486228417,\n        \"min\": 0.0,\n        \"max\": 10147.0,\n        \"num_unique_values\": 7,\n        \"samples\": [\n          10147.0,\n          3.352320883019612,\n          4.0\n        ],\n        \"semantic_type\": \"\",\n        \"description\": \"\"\n      }\n    },\n    {\n      \"column\": \"Bathrooms\",\n      \"properties\": {\n        \"dtype\": \"number\",\n        \"std\": 3586.640550275371,\n        \"min\": 0.0,\n        \"max\": 10147.0,\n        \"num_unique_values\": 8,\n        \"samples\": [\n          2.114418054597418,\n          2.25,\n          10147.0\n        ],\n        \"semantic_type\": \"\",\n        \"description\": \"\"\n      }\n    },\n    {\n      \"column\": \"Sqft_living\",\n      \"properties\": {\n        \"dtype\": \"number\",\n        \"std\": 4899.793541877748,\n        \"min\": 370.0,\n        \"max\": 13540.0,\n        \"num_unique_values\": 8,\n        \"samples\": [\n          2085.2932190025626,\n          1900.0,\n          10146.0\n        ],\n        \"semantic_type\": \"\",\n        \"description\": \"\"\n      }\n    },\n    {\n      \"column\": \"Sqft_lot\",\n      \"properties\": {\n        \"dtype\": \"number\",\n        \"std\": 578293.2338915115,\n        \"min\": 572.0,\n        \"max\": 1651359.0,\n        \"num_unique_values\": 8,\n        \"samples\": [\n          21309.10555884092,\n          7874.0,\n          10146.0\n        ],\n        \"semantic_type\": \"\",\n        \"description\": \"\"\n      }\n    },\n    {\n      \"column\": \"Floors\",\n      \"properties\": {\n        \"dtype\": \"number\",\n        \"std\": 3586.5952859616123,\n        \"min\": 0.5457138468469377,\n        \"max\": 10146.0,\n        \"num_unique_values\": 7,\n        \"samples\": [\n          10146.0,\n          1.492755765819042,\n          2.0\n        ],\n        \"semantic_type\": \"\",\n        \"description\": \"\"\n      }\n    },\n    {\n      \"column\": \"Waterfront\",\n      \"properties\": {\n        \"dtype\": \"number\",\n        \"std\": 3587.097344314133,\n        \"min\": 0.0,\n        \"max\": 10146.0,\n        \"num_unique_values\": 5,\n        \"samples\": [\n          0.007884880741178789,\n          1.0,\n          0.08845044085254149\n        ],\n        \"semantic_type\": \"\",\n        \"description\": \"\"\n      }\n    },\n    {\n      \"column\": \"View\",\n      \"properties\": {\n        \"dtype\": \"number\",\n        \"std\": 3586.9017804760774,\n        \"min\": 0.0,\n        \"max\": 10146.0,\n        \"num_unique_values\": 5,\n        \"samples\": [\n          0.22235363690124188,\n          4.0,\n          0.7507755277482265\n        ],\n        \"semantic_type\": \"\",\n        \"description\": \"\"\n      }\n    },\n    {\n      \"column\": \"Condition\",\n      \"properties\": {\n        \"dtype\": \"number\",\n        \"std\": 3586.1388735461446,\n        \"min\": 0.6581298133214991,\n        \"max\": 10146.0,\n        \"num_unique_values\": 7,\n        \"samples\": [\n          10146.0,\n          3.420362704514094,\n          4.0\n        ],\n        \"semantic_type\": \"\",\n        \"description\": \"\"\n      }\n    },\n    {\n      \"column\": \"Grade\",\n      \"properties\": {\n        \"dtype\": \"number\",\n        \"std\": 3584.787385918596,\n        \"min\": 1.210643691620894,\n        \"max\": 10146.0,\n        \"num_unique_values\": 7,\n        \"samples\": [\n          10146.0,\n          7.65424797949931,\n          8.0\n        ],\n        \"semantic_type\": \"\",\n        \"description\": \"\"\n      }\n    },\n    {\n      \"column\": \"Sqft_above\",\n      \"properties\": {\n        \"dtype\": \"number\",\n        \"std\": 3957.277522076885,\n        \"min\": 370.0,\n        \"max\": 10146.0,\n        \"num_unique_values\": 8,\n        \"samples\": [\n          1795.429233195348,\n          1540.0,\n          10146.0\n        ],\n        \"semantic_type\": \"\",\n        \"description\": \"\"\n      }\n    },\n    {\n      \"column\": \"Sqft_basement\",\n      \"properties\": {\n        \"dtype\": \"number\",\n        \"std\": 3659.7280146342896,\n        \"min\": 0.0,\n        \"max\": 10146.0,\n        \"num_unique_values\": 6,\n        \"samples\": [\n          10146.0,\n          289.86398580721465,\n          4820.0\n        ],\n        \"semantic_type\": \"\",\n        \"description\": \"\"\n      }\n    },\n    {\n      \"column\": \"Yr_built\",\n      \"properties\": {\n        \"dtype\": \"number\",\n        \"std\": 3065.4818921860083,\n        \"min\": 29.30190524184702,\n        \"max\": 10146.0,\n        \"num_unique_values\": 8,\n        \"samples\": [\n          1970.8627045140943,\n          1974.0,\n          10146.0\n        ],\n        \"semantic_type\": \"\",\n        \"description\": \"\"\n      }\n    },\n    {\n      \"column\": \"Yr_renovated\",\n      \"properties\": {\n        \"dtype\": \"number\",\n        \"std\": 3528.0078105360903,\n        \"min\": 0.0,\n        \"max\": 10146.0,\n        \"num_unique_values\": 5,\n        \"samples\": [\n          90.29696432091464,\n          2015.0,\n          414.8548872215462\n        ],\n        \"semantic_type\": \"\",\n        \"description\": \"\"\n      }\n    },\n    {\n      \"column\": \"zipcode\",\n      \"properties\": {\n        \"dtype\": \"number\",\n        \"std\": 43127.33039433442,\n        \"min\": 53.769720516108094,\n        \"max\": 98199.0,\n        \"num_unique_values\": 8,\n        \"samples\": [\n          98078.56475458309,\n          98070.0,\n          10146.0\n        ],\n        \"semantic_type\": \"\",\n        \"description\": \"\"\n      }\n    },\n    {\n      \"column\": \"Lat\",\n      \"properties\": {\n        \"dtype\": \"number\",\n        \"std\": 3572.7793955168545,\n        \"min\": 0.13770903219146938,\n        \"max\": 10146.0,\n        \"num_unique_values\": 8,\n        \"samples\": [\n          47.55804277547802,\n          47.5664,\n          10146.0\n        ],\n        \"semantic_type\": \"\",\n        \"description\": \"\"\n      }\n    },\n    {\n      \"column\": \"Long\",\n      \"properties\": {\n        \"dtype\": \"number\",\n        \"std\": 3624.4069548563084,\n        \"min\": -122.519,\n        \"max\": 10146.0,\n        \"num_unique_values\": 8,\n        \"samples\": [\n          -122.21617977528089,\n          -122.225,\n          10146.0\n        ],\n        \"semantic_type\": \"\",\n        \"description\": \"\"\n      }\n    },\n    {\n      \"column\": \"Sqft_living15\",\n      \"properties\": {\n        \"dtype\": \"number\",\n        \"std\": 3347.8090270684606,\n        \"min\": 399.0,\n        \"max\": 10146.0,\n        \"num_unique_values\": 8,\n        \"samples\": [\n          1985.2020500689928,\n          1830.0,\n          10146.0\n        ],\n        \"semantic_type\": \"\",\n        \"description\": \"\"\n      }\n    },\n    {\n      \"column\": \"Sqft_lot15\",\n      \"properties\": {\n        \"dtype\": \"number\",\n        \"std\": 303707.3577563701,\n        \"min\": 659.0,\n        \"max\": 871200.0,\n        \"num_unique_values\": 8,\n        \"samples\": [\n          16974.849103094817,\n          7803.0,\n          10146.0\n        ],\n        \"semantic_type\": \"\",\n        \"description\": \"\"\n      }\n    }\n  ]\n}"
            }
          },
          "metadata": {},
          "execution_count": 32
        }
      ]
    },
    {
      "cell_type": "code",
      "source": [
        "df.info()"
      ],
      "metadata": {
        "colab": {
          "base_uri": "https://localhost:8080/",
          "height": 0
        },
        "id": "qY4hRe73xkC_",
        "outputId": "01101d60-08d5-46f3-f16b-1e2f571bbbf2"
      },
      "execution_count": 33,
      "outputs": [
        {
          "output_type": "stream",
          "name": "stdout",
          "text": [
            "<class 'pandas.core.frame.DataFrame'>\n",
            "RangeIndex: 10147 entries, 0 to 10146\n",
            "Data columns (total 21 columns):\n",
            " #   Column         Non-Null Count  Dtype  \n",
            "---  ------         --------------  -----  \n",
            " 0   ID             10147 non-null  int64  \n",
            " 1   Date           10147 non-null  object \n",
            " 2   Price          10147 non-null  float64\n",
            " 3   Bedrooms       10147 non-null  int64  \n",
            " 4   Bathrooms      10147 non-null  float64\n",
            " 5   Sqft_living    10146 non-null  float64\n",
            " 6   Sqft_lot       10146 non-null  float64\n",
            " 7   Floors         10146 non-null  float64\n",
            " 8   Waterfront     10146 non-null  float64\n",
            " 9   View           10146 non-null  float64\n",
            " 10  Condition      10146 non-null  float64\n",
            " 11  Grade          10146 non-null  float64\n",
            " 12  Sqft_above     10146 non-null  float64\n",
            " 13  Sqft_basement  10146 non-null  float64\n",
            " 14  Yr_built       10146 non-null  float64\n",
            " 15  Yr_renovated   10146 non-null  float64\n",
            " 16  zipcode        10146 non-null  float64\n",
            " 17  Lat            10146 non-null  float64\n",
            " 18  Long           10146 non-null  float64\n",
            " 19  Sqft_living15  10146 non-null  float64\n",
            " 20  Sqft_lot15     10146 non-null  float64\n",
            "dtypes: float64(18), int64(2), object(1)\n",
            "memory usage: 1.6+ MB\n"
          ]
        }
      ]
    },
    {
      "cell_type": "markdown",
      "source": [
        "# **Defining X & Y**"
      ],
      "metadata": {
        "id": "Cv-zukQhQlVG"
      }
    },
    {
      "cell_type": "code",
      "source": [
        "df.columns"
      ],
      "metadata": {
        "colab": {
          "base_uri": "https://localhost:8080/",
          "height": 0
        },
        "id": "MNtedfmlx6Bb",
        "outputId": "a3597d73-b69c-4612-890a-e2b60799c044"
      },
      "execution_count": 34,
      "outputs": [
        {
          "output_type": "execute_result",
          "data": {
            "text/plain": [
              "Index(['ID', 'Date', 'Price', 'Bedrooms', 'Bathrooms', 'Sqft_living',\n",
              "       'Sqft_lot', 'Floors', 'Waterfront', 'View', 'Condition', 'Grade',\n",
              "       'Sqft_above', 'Sqft_basement', 'Yr_built', 'Yr_renovated', 'zipcode',\n",
              "       'Lat', 'Long', 'Sqft_living15', 'Sqft_lot15'],\n",
              "      dtype='object')"
            ]
          },
          "metadata": {},
          "execution_count": 34
        }
      ]
    },
    {
      "cell_type": "code",
      "source": [
        "y=df['Price']\n",
        "X=df[[ 'Sqft_living','Bedrooms', 'Bathrooms']]\n"
      ],
      "metadata": {
        "id": "I4u3wE31yJ_Z"
      },
      "execution_count": 35,
      "outputs": []
    },
    {
      "cell_type": "code",
      "source": [
        "from sklearn.model_selection import train_test_split"
      ],
      "metadata": {
        "id": "deU5_d-zyUda"
      },
      "execution_count": 43,
      "outputs": []
    },
    {
      "cell_type": "markdown",
      "source": [
        "# **Dividing data into Train-Test**"
      ],
      "metadata": {
        "id": "8LAxzbueQ06O"
      }
    },
    {
      "cell_type": "code",
      "source": [
        "X_train,X_test,y_train,y_test=train_test_split(X,y,random_state=2529)"
      ],
      "metadata": {
        "id": "AmStM-pMyn5-"
      },
      "execution_count": 44,
      "outputs": []
    },
    {
      "cell_type": "code",
      "source": [
        "X.shape,X_train.shape,X_test.shape\n"
      ],
      "metadata": {
        "colab": {
          "base_uri": "https://localhost:8080/",
          "height": 0
        },
        "id": "xXzvYlp3y3Xt",
        "outputId": "33d3f903-4860-4c7b-f9d4-67d207e4ef3f"
      },
      "execution_count": 38,
      "outputs": [
        {
          "output_type": "execute_result",
          "data": {
            "text/plain": [
              "((10147, 3), (7610, 3), (2537, 3))"
            ]
          },
          "metadata": {},
          "execution_count": 38
        }
      ]
    },
    {
      "cell_type": "code",
      "source": [
        "y.shape,y_train.shape,y_test.shape"
      ],
      "metadata": {
        "colab": {
          "base_uri": "https://localhost:8080/",
          "height": 0
        },
        "id": "DIXfnuJBzEC1",
        "outputId": "9eccbafd-40ab-416a-e68d-949bf8f900ec"
      },
      "execution_count": 39,
      "outputs": [
        {
          "output_type": "execute_result",
          "data": {
            "text/plain": [
              "((10147,), (7610,), (2537,))"
            ]
          },
          "metadata": {},
          "execution_count": 39
        }
      ]
    },
    {
      "cell_type": "markdown",
      "source": [
        "**Removing rows having NULLS**"
      ],
      "metadata": {
        "id": "_q4KJ6pTX1jz"
      }
    },
    {
      "cell_type": "code",
      "source": [
        "X_train = X_train.dropna()\n",
        "y_train = y_train[X_train.index]"
      ],
      "metadata": {
        "id": "Yj5p-n5PXv_3"
      },
      "execution_count": 46,
      "outputs": []
    },
    {
      "cell_type": "code",
      "source": [
        "from sklearn.linear_model import LinearRegression\n",
        "model=LinearRegression()"
      ],
      "metadata": {
        "id": "mCpc20yKzjuO"
      },
      "execution_count": 47,
      "outputs": []
    },
    {
      "cell_type": "markdown",
      "source": [
        "# **Training Model**"
      ],
      "metadata": {
        "id": "dMZihl82RAgZ"
      }
    },
    {
      "cell_type": "code",
      "source": [
        "model.fit(X_train, y_train)"
      ],
      "metadata": {
        "id": "T-FFRv21z6cQ",
        "colab": {
          "base_uri": "https://localhost:8080/",
          "height": 74
        },
        "outputId": "11946518-c536-4b65-cd31-f04b49c81fff"
      },
      "execution_count": 48,
      "outputs": [
        {
          "output_type": "execute_result",
          "data": {
            "text/plain": [
              "LinearRegression()"
            ],
            "text/html": [
              "<style>#sk-container-id-2 {color: black;background-color: white;}#sk-container-id-2 pre{padding: 0;}#sk-container-id-2 div.sk-toggleable {background-color: white;}#sk-container-id-2 label.sk-toggleable__label {cursor: pointer;display: block;width: 100%;margin-bottom: 0;padding: 0.3em;box-sizing: border-box;text-align: center;}#sk-container-id-2 label.sk-toggleable__label-arrow:before {content: \"▸\";float: left;margin-right: 0.25em;color: #696969;}#sk-container-id-2 label.sk-toggleable__label-arrow:hover:before {color: black;}#sk-container-id-2 div.sk-estimator:hover label.sk-toggleable__label-arrow:before {color: black;}#sk-container-id-2 div.sk-toggleable__content {max-height: 0;max-width: 0;overflow: hidden;text-align: left;background-color: #f0f8ff;}#sk-container-id-2 div.sk-toggleable__content pre {margin: 0.2em;color: black;border-radius: 0.25em;background-color: #f0f8ff;}#sk-container-id-2 input.sk-toggleable__control:checked~div.sk-toggleable__content {max-height: 200px;max-width: 100%;overflow: auto;}#sk-container-id-2 input.sk-toggleable__control:checked~label.sk-toggleable__label-arrow:before {content: \"▾\";}#sk-container-id-2 div.sk-estimator input.sk-toggleable__control:checked~label.sk-toggleable__label {background-color: #d4ebff;}#sk-container-id-2 div.sk-label input.sk-toggleable__control:checked~label.sk-toggleable__label {background-color: #d4ebff;}#sk-container-id-2 input.sk-hidden--visually {border: 0;clip: rect(1px 1px 1px 1px);clip: rect(1px, 1px, 1px, 1px);height: 1px;margin: -1px;overflow: hidden;padding: 0;position: absolute;width: 1px;}#sk-container-id-2 div.sk-estimator {font-family: monospace;background-color: #f0f8ff;border: 1px dotted black;border-radius: 0.25em;box-sizing: border-box;margin-bottom: 0.5em;}#sk-container-id-2 div.sk-estimator:hover {background-color: #d4ebff;}#sk-container-id-2 div.sk-parallel-item::after {content: \"\";width: 100%;border-bottom: 1px solid gray;flex-grow: 1;}#sk-container-id-2 div.sk-label:hover label.sk-toggleable__label {background-color: #d4ebff;}#sk-container-id-2 div.sk-serial::before {content: \"\";position: absolute;border-left: 1px solid gray;box-sizing: border-box;top: 0;bottom: 0;left: 50%;z-index: 0;}#sk-container-id-2 div.sk-serial {display: flex;flex-direction: column;align-items: center;background-color: white;padding-right: 0.2em;padding-left: 0.2em;position: relative;}#sk-container-id-2 div.sk-item {position: relative;z-index: 1;}#sk-container-id-2 div.sk-parallel {display: flex;align-items: stretch;justify-content: center;background-color: white;position: relative;}#sk-container-id-2 div.sk-item::before, #sk-container-id-2 div.sk-parallel-item::before {content: \"\";position: absolute;border-left: 1px solid gray;box-sizing: border-box;top: 0;bottom: 0;left: 50%;z-index: -1;}#sk-container-id-2 div.sk-parallel-item {display: flex;flex-direction: column;z-index: 1;position: relative;background-color: white;}#sk-container-id-2 div.sk-parallel-item:first-child::after {align-self: flex-end;width: 50%;}#sk-container-id-2 div.sk-parallel-item:last-child::after {align-self: flex-start;width: 50%;}#sk-container-id-2 div.sk-parallel-item:only-child::after {width: 0;}#sk-container-id-2 div.sk-dashed-wrapped {border: 1px dashed gray;margin: 0 0.4em 0.5em 0.4em;box-sizing: border-box;padding-bottom: 0.4em;background-color: white;}#sk-container-id-2 div.sk-label label {font-family: monospace;font-weight: bold;display: inline-block;line-height: 1.2em;}#sk-container-id-2 div.sk-label-container {text-align: center;}#sk-container-id-2 div.sk-container {/* jupyter's `normalize.less` sets `[hidden] { display: none; }` but bootstrap.min.css set `[hidden] { display: none !important; }` so we also need the `!important` here to be able to override the default hidden behavior on the sphinx rendered scikit-learn.org. See: https://github.com/scikit-learn/scikit-learn/issues/21755 */display: inline-block !important;position: relative;}#sk-container-id-2 div.sk-text-repr-fallback {display: none;}</style><div id=\"sk-container-id-2\" class=\"sk-top-container\"><div class=\"sk-text-repr-fallback\"><pre>LinearRegression()</pre><b>In a Jupyter environment, please rerun this cell to show the HTML representation or trust the notebook. <br />On GitHub, the HTML representation is unable to render, please try loading this page with nbviewer.org.</b></div><div class=\"sk-container\" hidden><div class=\"sk-item\"><div class=\"sk-estimator sk-toggleable\"><input class=\"sk-toggleable__control sk-hidden--visually\" id=\"sk-estimator-id-2\" type=\"checkbox\" checked><label for=\"sk-estimator-id-2\" class=\"sk-toggleable__label sk-toggleable__label-arrow\">LinearRegression</label><div class=\"sk-toggleable__content\"><pre>LinearRegression()</pre></div></div></div></div></div>"
            ]
          },
          "metadata": {},
          "execution_count": 48
        }
      ]
    },
    {
      "cell_type": "code",
      "source": [
        "y_pred=model.predict(X_test)"
      ],
      "metadata": {
        "id": "QftCDBpJnVxv"
      },
      "execution_count": 49,
      "outputs": []
    },
    {
      "cell_type": "code",
      "source": [
        "# step8: evaluation\n",
        "from sklearn.metrics import mean_absolute_percentage_error, mean_absolute_error, mean_squared_error\n",
        "mean_absolute_percentage_error(y_test,y_pred)"
      ],
      "metadata": {
        "id": "VqU_uzep6TB4",
        "outputId": "2af52bf3-ff75-4090-8a6b-a74395f03dff",
        "colab": {
          "base_uri": "https://localhost:8080/",
          "height": 0
        }
      },
      "execution_count": 50,
      "outputs": [
        {
          "output_type": "execute_result",
          "data": {
            "text/plain": [
              "0.35555954248017896"
            ]
          },
          "metadata": {},
          "execution_count": 50
        }
      ]
    },
    {
      "cell_type": "code",
      "source": [
        "mean_squared_error(y_test,y_pred)"
      ],
      "metadata": {
        "colab": {
          "base_uri": "https://localhost:8080/",
          "height": 0
        },
        "id": "7PZzvPH1RedQ",
        "outputId": "c01a1e8a-3ff4-49d1-a5b9-0172cc870ac9"
      },
      "execution_count": 51,
      "outputs": [
        {
          "output_type": "execute_result",
          "data": {
            "text/plain": [
              "57102246405.82373"
            ]
          },
          "metadata": {},
          "execution_count": 51
        }
      ]
    },
    {
      "cell_type": "markdown",
      "source": [
        "# **Predicting house price by giving parameters like bedrooms,bathrooms, & Square Footage.**"
      ],
      "metadata": {
        "id": "XAx7nkedTMSM"
      }
    },
    {
      "cell_type": "code",
      "source": [
        "def predict_price(bedrooms, bathrooms, sqft_living):\n",
        "  \"\"\"\n",
        "  Predicts the price of a house based on its square footage, number of bedrooms, and number of bathrooms.\n",
        "\n",
        "  Args:\n",
        "    bedrooms: The number of bedrooms in the house.\n",
        "    bathrooms: The number of bathrooms in the house.\n",
        "    sqft_living: The square footage of the house.\n",
        "\n",
        "  Returns:\n",
        "    The predicted price of the house.\n",
        "  \"\"\"\n",
        "  # Create a DataFrame with the input values.\n",
        "  input_data = pd.DataFrame({\n",
        "      'Sqft_living': [sqft_living],\n",
        "      'Bedrooms': [bedrooms],\n",
        "      'Bathrooms': [bathrooms],\n",
        "\n",
        "  })\n",
        "\n",
        "  # Predict the price of the house using the model.\n",
        "  predicted_price = model.predict(input_data)[0]\n",
        "\n",
        "  # Return the predicted price.\n",
        "  return predicted_price\n",
        "\n",
        "# Example usage:\n",
        "\n",
        "sqft_living=int(input(\"Enter Square footage: \"))\n",
        "bedrooms=int(input(\"Enter number of bedrooms: \"))\n",
        "bathrooms=int(input(\"Enter number of bathrooms: \"))\n",
        "predicted_price = predict_price(bedrooms, bathrooms, sqft_living)\n",
        "print(f\"Predicted price: {predicted_price}\")\n"
      ],
      "metadata": {
        "colab": {
          "base_uri": "https://localhost:8080/",
          "height": 0
        },
        "id": "LNr2_Xht4GA0",
        "outputId": "d2ccccb2-5b76-4760-9ce0-a7e539d8568b"
      },
      "execution_count": 52,
      "outputs": [
        {
          "output_type": "stream",
          "name": "stdout",
          "text": [
            "Enter Square footage: 2400\n",
            "Enter number of bedrooms: 6\n",
            "Enter number of bathrooms: 3\n",
            "Predicted price: 523735.83300729224\n"
          ]
        }
      ]
    },
    {
      "cell_type": "markdown",
      "source": [
        "# **Relation between Sq_ft & House Price accordingly**"
      ],
      "metadata": {
        "id": "vneaplUlRKFj"
      }
    },
    {
      "cell_type": "code",
      "source": [
        "import seaborn as sns\n",
        "sns.regplot(x='Sqft_living', y='Price' ,data = df,fit_reg=True)"
      ],
      "metadata": {
        "colab": {
          "base_uri": "https://localhost:8080/",
          "height": 483
        },
        "id": "oVWSXBefxPph",
        "outputId": "805f2f29-afeb-47b4-e793-b9dbb064007b"
      },
      "execution_count": 53,
      "outputs": [
        {
          "output_type": "execute_result",
          "data": {
            "text/plain": [
              "<Axes: xlabel='Sqft_living', ylabel='Price'>"
            ]
          },
          "metadata": {},
          "execution_count": 53
        },
        {
          "output_type": "display_data",
          "data": {
            "text/plain": [
              "<Figure size 640x480 with 1 Axes>"
            ],
            "image/png": "[encoded data removed]"
          },
          "metadata": {}
        }
      ]
    }
  ]
}